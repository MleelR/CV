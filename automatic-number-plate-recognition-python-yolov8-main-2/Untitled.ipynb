{
 "cells": [
  {
   "cell_type": "code",
   "execution_count": 3,
   "id": "9539ac6e",
   "metadata": {},
   "outputs": [
    {
     "name": "stderr",
     "output_type": "stream",
     "text": [
      "\n",
      "0: 384x640 9 cars, 1 truck, 245.1ms\n",
      "Speed: 5.3ms preprocess, 245.1ms inference, 2.2ms postprocess per image at shape (1, 3, 384, 640)\n",
      "\n",
      "0: 384x640 2 License_Plates, 501.6ms\n",
      "Speed: 2.6ms preprocess, 501.6ms inference, 0.8ms postprocess per image at shape (1, 3, 384, 640)\n"
     ]
    },
    {
     "name": "stdout",
     "output_type": "stream",
     "text": [
      "[([[0, 1], [121, 1], [121, 37], [0, 37]], '4523lusR', 0.40241477911945195)]\n",
      "[]\n"
     ]
    }
   ],
   "source": [
    "from ultralytics import YOLO\n",
    "import cv2\n",
    "import csv\n",
    "import numpy as np\n",
    "from sort.sort import *\n",
    "\n",
    "# Your custom utility functions\n",
    "from util import get_car, read_license_plate, write_csv\n",
    "\n",
    "# Initialize variables\n",
    "results = {}\n",
    "mot_tracker = Sort()\n",
    "coco_model = YOLO('yolov8m.pt')\n",
    "license_plate_detector = YOLO('/Users/malik/Desktop/Malik/University/General - GP 1  2023 A/G/automatic-number-plate-recognition-python-yolov8-main-2/best.pt')\n",
    "cap = cv2.VideoCapture('/Users/malik/Desktop/Malik/University/General - GP 1  2023 A/G/Data/img/20230101002212_000025.JPG')\n",
    "\n",
    "# Initialize video writer\n",
    "fourcc = cv2.VideoWriter_fourcc(*'mp4v')\n",
    "out = cv2.VideoWriter('output.mp4', fourcc, 20.0, (640, 480))\n",
    "\n",
    "# Initialize CSV writer\n",
    "csv_file = open('output.csv', 'w', newline='')\n",
    "csv_writer = csv.writer(csv_file)\n",
    "csv_writer.writerow(['frame_nmr', 'car_id', 'car_bbox', 'license_bbox', 'license_text', 'license_bbox_score', 'license_text_score'])\n",
    "\n",
    "# Main loop\n",
    "vehicles = [2, 3, 5, 7]\n",
    "frame_nmr = -1\n",
    "ret = True\n",
    "\n",
    "while ret:\n",
    "    frame_nmr += 1\n",
    "    ret, frame = cap.read()\n",
    "    if ret:\n",
    "        results[frame_nmr] = {}\n",
    "        detections = coco_model(frame)[0]\n",
    "        detections_ = [[x1, y1, x2, y2, score] for x1, y1, x2, y2, score, class_id in detections.boxes.data.tolist() if int(class_id) in vehicles]\n",
    "        track_ids = mot_tracker.update(np.array(detections_))\n",
    "        license_plates = license_plate_detector(frame)[0]\n",
    "        \n",
    "        for license_plate in license_plates.boxes.data.tolist():\n",
    "            x1, y1, x2, y2, score, class_id = license_plate\n",
    "            xcar1, ycar1, xcar2, ycar2, car_id = get_car(license_plate, track_ids)\n",
    "            if car_id != -1:\n",
    "                license_plate_crop = frame[int(y1):int(y2), int(x1): int(x2), :]\n",
    "                license_plate_text, license_plate_text_score = read_license_plate(license_plate_crop)\n",
    "                \n",
    "                if license_plate_text is not None:\n",
    "                    results[frame_nmr][car_id] = {'car': {'bbox': [xcar1, ycar1, xcar2, ycar2]},\n",
    "                                                  'license_plate': {'bbox': [x1, y1, x2, y2],\n",
    "                                                                    'text': license_plate_text,\n",
    "                                                                    'bbox_score': score,\n",
    "                                                                    'text_score': license_plate_text_score}}\n",
    "                    \n",
    "                    # Write to CSV\n",
    "                    csv_writer.writerow([frame_nmr, car_id, [xcar1, ycar1, xcar2, ycar2], [x1, y1, x2, y2], license_plate_text, score, license_plate_text_score])\n",
    "                    \n",
    "                    # Draw bounding boxes and text on the frame\n",
    "                    cv2.rectangle(frame, (int(xcar1), int(ycar1)), (int(xcar2), int(ycar2)), (0, 255, 0), 2)\n",
    "                    cv2.rectangle(frame, (int(x1), int(y1)), (int(x2), int(y2)), (0, 0, 255), 2)\n",
    "                    cv2.putText(frame, license_plate_text, (int(x1), int(y1)-10), cv2.FONT_HERSHEY_SIMPLEX, 0.8, (255, 255, 255), 2)\n",
    "        \n",
    "        # Write the frame to the output video\n",
    "        out.write(frame)\n",
    "\n",
    "# Release video and close CSV\n",
    "cap.release()\n",
    "out.release()\n",
    "csv_file.close()\n"
   ]
  },
  {
   "cell_type": "code",
   "execution_count": null,
   "id": "45794921",
   "metadata": {},
   "outputs": [],
   "source": []
  }
 ],
 "metadata": {
  "kernelspec": {
   "display_name": "Python 3 (ipykernel)",
   "language": "python",
   "name": "python3"
  },
  "language_info": {
   "codemirror_mode": {
    "name": "ipython",
    "version": 3
   },
   "file_extension": ".py",
   "mimetype": "text/x-python",
   "name": "python",
   "nbconvert_exporter": "python",
   "pygments_lexer": "ipython3",
   "version": "3.9.13"
  }
 },
 "nbformat": 4,
 "nbformat_minor": 5
}
