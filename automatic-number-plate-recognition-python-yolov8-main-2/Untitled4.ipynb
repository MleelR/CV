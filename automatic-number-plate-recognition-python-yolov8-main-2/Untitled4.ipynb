{
 "cells": [
  {
   "cell_type": "code",
   "execution_count": 1,
   "id": "f86ae114",
   "metadata": {},
   "outputs": [],
   "source": [
    "import cv2\n",
    "import os\n",
    "import glob\n",
    "\n",
    "# Paths and desired dimensions\n",
    "image_dir = '/Users/malik/Desktop/v2/kk/J'\n",
    "output_dir = '/Users/malik/Documents/Data/padded_image'\n",
    "desired_width, desired_height = 1280, 720\n",
    "\n",
    "# Ensure the output directory exists\n",
    "os.makedirs(output_dir, exist_ok=True)\n",
    "\n",
    "# Get image filepaths\n",
    "image_files = glob.glob(os.path.join(image_dir, '*'))\n",
    "\n",
    "# Process each image\n",
    "for file in image_files:\n",
    "    # Load the image\n",
    "    img = cv2.imread(file)\n",
    "    \n",
    "    if img is None:\n",
    "        print(f\"Error: Unable to load {file}\")\n",
    "        continue\n",
    "\n",
    "    # Obtain image dimensions\n",
    "    height, width, _ = img.shape\n",
    "    \n",
    "    # Resize if larger than desired dimensions\n",
    "    if width > desired_width or height > desired_height:\n",
    "        # Compute scaling factor\n",
    "        scaling_factor = min(desired_width/width, desired_height/height)\n",
    "        img = cv2.resize(img, None, fx=scaling_factor, fy=scaling_factor, interpolation=cv2.INTER_AREA)\n",
    "        height, width, _ = img.shape  # Update dimensions\n",
    "    \n",
    "    # Compute padding\n",
    "    delta_width = desired_width - width\n",
    "    delta_height = desired_height - height\n",
    "    top_pad = delta_height // 2\n",
    "    bottom_pad = delta_height - top_pad\n",
    "    left_pad = delta_width // 2\n",
    "    right_pad = delta_width - left_pad\n",
    "    \n",
    "    # Ensure non-negative padding\n",
    "    top_pad = max(0, top_pad)\n",
    "    bottom_pad = max(0, bottom_pad)\n",
    "    left_pad = max(0, left_pad)\n",
    "    right_pad = max(0, right_pad)\n",
    "    \n",
    "    # Add black border (padding)\n",
    "    padded_img = cv2.copyMakeBorder(img, top_pad, bottom_pad, left_pad, right_pad, cv2.BORDER_CONSTANT, value=[0, 0, 0])\n",
    "    \n",
    "    # Save the new image\n",
    "    output_filepath = os.path.join(output_dir, os.path.basename(file))\n",
    "    cv2.imwrite(output_filepath, padded_img)\n"
   ]
  },
  {
   "cell_type": "code",
   "execution_count": null,
   "id": "e5e39c9b",
   "metadata": {},
   "outputs": [],
   "source": []
  },
  {
   "cell_type": "code",
   "execution_count": null,
   "id": "e897d245",
   "metadata": {},
   "outputs": [],
   "source": []
  }
 ],
 "metadata": {
  "kernelspec": {
   "display_name": "Python 3 (ipykernel)",
   "language": "python",
   "name": "python3"
  },
  "language_info": {
   "codemirror_mode": {
    "name": "ipython",
    "version": 3
   },
   "file_extension": ".py",
   "mimetype": "text/x-python",
   "name": "python",
   "nbconvert_exporter": "python",
   "pygments_lexer": "ipython3",
   "version": "3.9.13"
  }
 },
 "nbformat": 4,
 "nbformat_minor": 5
}
