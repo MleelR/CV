{
 "cells": [
  {
   "cell_type": "code",
   "execution_count": 1,
   "id": "ad942d08",
   "metadata": {},
   "outputs": [
    {
     "name": "stderr",
     "output_type": "stream",
     "text": [
      "Using CPU. Note: This module is much faster with a GPU.\n",
      "\n",
      "0: 320x640 1 person, 3 cars, 76.1ms\n",
      "Speed: 5.0ms preprocess, 76.1ms inference, 1.2ms postprocess per image at shape (1, 3, 320, 640)\n",
      "\n",
      "0: 320x640 1 License_Plate, 55.0ms\n",
      "Speed: 3.8ms preprocess, 55.0ms inference, 1.0ms postprocess per image at shape (1, 3, 320, 640)\n"
     ]
    },
    {
     "name": "stdout",
     "output_type": "stream",
     "text": [
      "[([[4, 0], [291, 0], [291, 94], [4, 94]], '6671/ss R', 0.681290438088223)]\n",
      "SSR 6671\n",
      "res {0: {3.0: {'car': {'bbox': [287.621826171875, 0.0, 2130.766357421875, 1152.1441650390625]}, 'license_plate': {'bbox': [1171.8502197265625, 392.3825378417969, 1462.7896728515625, 486.76629638671875], 'text': 'SSR 6671', 'bbox_score': 0.8270201683044434, 'text_score': 0.681290438088223}}}}\n",
      "{'car': {'bbox': [287.621826171875, 0.0, 2130.766357421875, 1152.1441650390625]}, 'license_plate': {'bbox': [1171.8502197265625, 392.3825378417969, 1462.7896728515625, 486.76629638671875], 'text': 'SSR 6671', 'bbox_score': 0.8270201683044434, 'text_score': 0.681290438088223}}\n"
     ]
    }
   ],
   "source": [
    "from ultralytics import YOLO\n",
    "import cv2\n",
    "\n",
    "import util\n",
    "from sort.sort import *\n",
    "from util import get_car, read_license_plate, write_csv\n",
    "\n",
    "\n",
    "results = {}\n",
    "\n",
    "mot_tracker = Sort()\n",
    "\n",
    "# load models\n",
    "coco_model = YOLO('yolov8n.pt')\n",
    "license_plate_detector = YOLO('/Users/malik/Downloads/detect/train3/weights/best.pt')\n",
    "\n",
    "# load video\n",
    "cap = cv2.VideoCapture('/Users/malik/Desktop/dataset/train/images/IMG_9459.jpeg')\n",
    "\n",
    "vehicles = [2, 3, 5, 7]\n",
    "\n",
    "# read frames\n",
    "frame_nmr = -1\n",
    "ret = True\n",
    "while ret:\n",
    "    frame_nmr += 1\n",
    "    ret, frame = cap.read()\n",
    "    if ret:\n",
    "        results[frame_nmr] = {}\n",
    "        # detect vehicles\n",
    "        detections = coco_model(frame)[0]\n",
    "        detections_ = []\n",
    "        for detection in detections.boxes.data.tolist():\n",
    "            x1, y1, x2, y2, score, class_id = detection\n",
    "            if int(class_id) in vehicles:\n",
    "                detections_.append([x1, y1, x2, y2, score])\n",
    "\n",
    "        # track vehicles\n",
    "        track_ids = mot_tracker.update(np.asarray(detections_))\n",
    "\n",
    "        # detect license plates\n",
    "        license_plates = license_plate_detector(frame)[0]\n",
    "        for license_plate in license_plates.boxes.data.tolist():\n",
    "            x1, y1, x2, y2, score, class_id = license_plate\n",
    "\n",
    "            # assign license plate to car\n",
    "            xcar1, ycar1, xcar2, ycar2, car_id = get_car(license_plate, track_ids)\n",
    "\n",
    "            if car_id != -1:\n",
    "\n",
    "                # crop license plate\n",
    "                license_plate_crop = frame[int(y1):int(y2), int(x1): int(x2), :]\n",
    "\n",
    "                # process license plate\n",
    "                license_plate_crop_gray = cv2.cvtColor(license_plate_crop, cv2.COLOR_BGR2GRAY)\n",
    "                _, license_plate_crop_thresh = cv2.threshold(license_plate_crop_gray, 64, 255, cv2.THRESH_BINARY_INV)\n",
    "\n",
    "                # read license plate number\n",
    "                license_plate_text, license_plate_text_score = read_license_plate(license_plate_crop_thresh)\n",
    "                print(license_plate_text)\n",
    "\n",
    "                if license_plate_text is not None:\n",
    "                    results[frame_nmr][car_id] = {'car': {'bbox': [xcar1, ycar1, xcar2, ycar2]},\n",
    "                                                  'license_plate': {'bbox': [x1, y1, x2, y2],\n",
    "                                                                    'text': license_plate_text,\n",
    "                                                                    'bbox_score': score,\n",
    "                                                                    'text_score': license_plate_text_score}}\n",
    "\n",
    "# write results\n",
    "print('res',results)\n",
    "write_csv(results, './test.csv')"
   ]
  },
  {
   "cell_type": "code",
   "execution_count": null,
   "id": "87ed1cd1",
   "metadata": {},
   "outputs": [],
   "source": []
  },
  {
   "cell_type": "code",
   "execution_count": null,
   "id": "2ec9e06a",
   "metadata": {},
   "outputs": [],
   "source": []
  },
  {
   "cell_type": "code",
   "execution_count": null,
   "id": "342d49ef",
   "metadata": {},
   "outputs": [],
   "source": []
  }
 ],
 "metadata": {
  "kernelspec": {
   "display_name": "Python 3 (ipykernel)",
   "language": "python",
   "name": "python3"
  },
  "language_info": {
   "codemirror_mode": {
    "name": "ipython",
    "version": 3
   },
   "file_extension": ".py",
   "mimetype": "text/x-python",
   "name": "python",
   "nbconvert_exporter": "python",
   "pygments_lexer": "ipython3",
   "version": "3.10.9"
  }
 },
 "nbformat": 4,
 "nbformat_minor": 5
}
